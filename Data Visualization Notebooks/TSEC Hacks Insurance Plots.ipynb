{
 "cells": [
  {
   "cell_type": "code",
   "execution_count": 31,
   "metadata": {},
   "outputs": [
    {
     "data": {
      "text/plain": [
       "['random_classifier_model_multiple.sav',\n",
       " 'random_classifier_model.sav',\n",
       " 'USCS_1999_2015_ASCII',\n",
       " 'kag_risk_factors_cervical_cancer.csv',\n",
       " 'cancer_check_cli.py',\n",
       " 'data_processing.py']"
      ]
     },
     "execution_count": 31,
     "metadata": {},
     "output_type": "execute_result"
    }
   ],
   "source": [
    "import os\n",
    "import pandas as pd\n",
    "import numpy as np\n",
    "from sklearn.ensemble import RandomForestClassifier\n",
    "from sklearn.model_selection import train_test_split\n",
    "from sklearn import metrics\n",
    "from sklearn.metrics import confusion_matrix\n",
    "import seaborn as sns\n",
    "import warnings\n",
    "\n",
    "warnings.filterwarnings(\"ignore\")\n",
    "\n",
    "os.chdir('/home/jai/Downloads/Data Science/TSEC Cancer')\n",
    "\n",
    "os.getcwd()\n",
    "\n",
    "os.listdir()"
   ]
  },
  {
   "cell_type": "code",
   "execution_count": 23,
   "metadata": {},
   "outputs": [
    {
     "name": "stdout",
     "output_type": "stream",
     "text": [
      "Accuracy using Random Forest Classifier: 94.8051948051948\n",
      "Mean Absolute Error: 0.039473684210526314\n",
      "Mean Squared Error: 0.039473684210526314\n",
      "Root Mean Squared Error: 0.19867985355975656\n"
     ]
    }
   ],
   "source": [
    "data = pd.read_csv('kag_risk_factors_cervical_cancer.csv')\n",
    "\n",
    "data.describe()\n",
    "\n",
    "data.dtypes\n",
    "\n",
    "data = data.replace('?', np.NaN)\n",
    "\n",
    "data[['Number of sexual partners', 'First sexual intercourse',\n",
    "      'Num of pregnancies', 'Smokes', 'Smokes (years)', 'Smokes (packs/year)',\n",
    "      'Hormonal Contraceptives', 'Hormonal Contraceptives (years)', 'IUD',\n",
    "      'IUD (years)', 'STDs', 'STDs (number)', 'STDs:condylomatosis',\n",
    "      'STDs:cervical condylomatosis', 'STDs:vaginal condylomatosis',\n",
    "      'STDs:vulvo-perineal condylomatosis', 'STDs:syphilis',\n",
    "      'STDs:pelvic inflammatory disease', 'STDs:genital herpes',\n",
    "      'STDs:molluscum contagiosum', 'STDs:AIDS', 'STDs:HIV',\n",
    "      'STDs:Hepatitis B', 'STDs:HPV', 'STDs: Time since first diagnosis',\n",
    "      'STDs: Time since last diagnosis']] = data[['Number of sexual partners', \n",
    "      'First sexual intercourse', 'Num of pregnancies', 'Smokes', \n",
    "      'Smokes (years)', 'Smokes (packs/year)', 'Hormonal Contraceptives', \n",
    "      'Hormonal Contraceptives (years)', 'IUD', 'IUD (years)', 'STDs',\n",
    "      'STDs (number)', 'STDs:condylomatosis', 'STDs:cervical condylomatosis', \n",
    "      'STDs:vaginal condylomatosis', 'STDs:vulvo-perineal condylomatosis', \n",
    "      'STDs:syphilis', 'STDs:pelvic inflammatory disease', 'STDs:genital herpes',\n",
    "      'STDs:molluscum contagiosum', 'STDs:AIDS', 'STDs:HIV',\n",
    "      'STDs:Hepatitis B', 'STDs:HPV', 'STDs: Time since first diagnosis',\n",
    "      'STDs: Time since last diagnosis']].apply(pd.to_numeric)\n",
    "\n",
    "\n",
    "\n",
    "data.isnull().sum()\n",
    "\n",
    "data['Number of sexual partners'] = data['Number of sexual partners'].fillna(round(data['Number of sexual partners'].mean()))\n",
    "data['Smokes'] = data['Smokes'].fillna(round(data['Smokes'].mean()))\n",
    "data['Smokes (years)'] = data['Smokes (years)'].fillna(round(data['Smokes (years)'].mean()))\n",
    "data['Smokes (packs/year)'] = data['Smokes (packs/year)'].fillna(round(data['Smokes (packs/year)'].mean()))\n",
    "data['First sexual intercourse'] = data['First sexual intercourse'].fillna(round(data['First sexual intercourse'].mean()))\n",
    "data['Num of pregnancies'] = data['Num of pregnancies'].fillna(round(data['Num of pregnancies'].mean()))\n",
    "\n",
    "data = data.drop(columns=['STDs: Time since first diagnosis',\n",
    "                          'STDs: Time since last diagnosis'])\n",
    "\n",
    "data = data[pd.notnull(data['STDs'])]\n",
    "\n",
    "data['Hormonal Contraceptives'] = data['Hormonal Contraceptives'].fillna(round(data['Hormonal Contraceptives'].mean()))\n",
    "data['Hormonal Contraceptives (years)'] = data['Hormonal Contraceptives (years)'].fillna(round(data['Hormonal Contraceptives (years)'].mean()))\n",
    "data['IUD'] = data['IUD'].fillna(round(data['IUD'].mean()))\n",
    "data['IUD (years)'] = data['IUD (years)'].fillna(round(data['IUD (years)'].mean()))\n",
    "\n",
    "train_data = data.drop(['Dx:Cancer'], axis=1)\n",
    "test_data = data['Dx:Cancer']\n",
    "\n",
    "X_train, X_test, y_train, y_test = train_test_split(train_data, test_data, \n",
    "                                                    test_size=0.10, random_state=10)\n",
    "\n",
    "classifier = RandomForestClassifier(n_estimators=300, random_state=0)  \n",
    "classifier.fit(X_train, y_train)  \n",
    "y_pred = classifier.predict(X_test)\n",
    "\n",
    "y_test = y_test.reset_index()\n",
    "y_test = y_test.drop(columns=['index'])\n",
    "\n",
    "\n",
    "acc = 0\n",
    "for i in range(1, 77):\n",
    "    if(y_pred[i-1]==y_test['Dx:Cancer'][i-1]):\n",
    "        acc += 1\n",
    "\n",
    "print('Accuracy using Random Forest Classifier:',(acc/77)*100)\n",
    "\n",
    "\n",
    "print('Mean Absolute Error:', metrics.mean_absolute_error(y_test, y_pred))  \n",
    "print('Mean Squared Error:', metrics.mean_squared_error(y_test, y_pred))  \n",
    "print('Root Mean Squared Error:', np.sqrt(metrics.mean_squared_error(y_test, y_pred)))\n"
   ]
  },
  {
   "cell_type": "code",
   "execution_count": 25,
   "metadata": {},
   "outputs": [
    {
     "data": {
      "text/plain": [
       "array([[71,  0],\n",
       "       [ 3,  2]])"
      ]
     },
     "execution_count": 25,
     "metadata": {},
     "output_type": "execute_result"
    }
   ],
   "source": [
    "confusion_matrix(y_test, y_pred)"
   ]
  },
  {
   "cell_type": "code",
   "execution_count": 32,
   "metadata": {},
   "outputs": [
    {
     "data": {
      "text/plain": [
       "<matplotlib.axes._subplots.AxesSubplot at 0x7f38109991d0>"
      ]
     },
     "execution_count": 32,
     "metadata": {},
     "output_type": "execute_result"
    },
    {
     "data": {
      "image/png": "[encoded data removed]",
      "text/plain": [
       "<matplotlib.figure.Figure at 0x7f3812c367f0>"
      ]
     },
     "metadata": {},
     "output_type": "display_data"
    }
   ],
   "source": [
    "cancer_data = data.loc[data['Dx:Cancer'] == 1]\n",
    "\n",
    "sns.distplot(cancer_data['Age'])"
   ]
  },
  {
   "cell_type": "code",
   "execution_count": 33,
   "metadata": {},
   "outputs": [
    {
     "data": {
      "text/plain": [
       "<matplotlib.axes._subplots.AxesSubplot at 0x7f38109be7f0>"
      ]
     },
     "execution_count": 33,
     "metadata": {},
     "output_type": "execute_result"
    },
    {
     "data": {
      "image/png": "[encoded data removed]",
      "text/plain": [
       "<matplotlib.figure.Figure at 0x7f3810911668>"
      ]
     },
     "metadata": {},
     "output_type": "display_data"
    }
   ],
   "source": [
    "sns.distplot(cancer_data['Number of sexual partners'])\n"
   ]
  },
  {
   "cell_type": "code",
   "execution_count": 34,
   "metadata": {},
   "outputs": [
    {
     "data": {
      "text/plain": [
       "<matplotlib.axes._subplots.AxesSubplot at 0x7f381569ba20>"
      ]
     },
     "execution_count": 34,
     "metadata": {},
     "output_type": "execute_result"
    },
    {
     "data": {
      "image/png": "[encoded data removed]",
      "text/plain": [
       "<matplotlib.figure.Figure at 0x7f38156bec50>"
      ]
     },
     "metadata": {},
     "output_type": "display_data"
    }
   ],
   "source": [
    "sns.distplot(cancer_data['Num of pregnancies'])"
   ]
  },
  {
   "cell_type": "code",
   "execution_count": 41,
   "metadata": {},
   "outputs": [
    {
     "data": {
      "text/plain": [
       "<matplotlib.axes._subplots.AxesSubplot at 0x7f3810598128>"
      ]
     },
     "execution_count": 41,
     "metadata": {},
     "output_type": "execute_result"
    },
    {
     "data": {
      "image/png": "[encoded data removed]",
      "text/plain": [
       "<matplotlib.figure.Figure at 0x7f38105ad278>"
      ]
     },
     "metadata": {},
     "output_type": "display_data"
    }
   ],
   "source": [
    "sns.countplot(cancer_data['STDs'])"
   ]
  },
  {
   "cell_type": "code",
   "execution_count": 42,
   "metadata": {},
   "outputs": [
    {
     "data": {
      "text/plain": [
       "<matplotlib.axes._subplots.AxesSubplot at 0x7f3810525048>"
      ]
     },
     "execution_count": 42,
     "metadata": {},
     "output_type": "execute_result"
    },
    {
     "data": {
      "image/png": "[encoded data removed]",
      "text/plain": [
       "<matplotlib.figure.Figure at 0x7f38104c99b0>"
      ]
     },
     "metadata": {},
     "output_type": "display_data"
    }
   ],
   "source": [
    "sns.countplot(cancer_data['Dx'])"
   ]
  },
  {
   "cell_type": "code",
   "execution_count": null,
   "metadata": {},
   "outputs": [],
   "source": [
    "\n"
   ]
  },
  {
   "cell_type": "code",
   "execution_count": null,
   "metadata": {},
   "outputs": [],
   "source": []
  }
 ],
 "metadata": {
  "kernelspec": {
   "display_name": "Python 3",
   "language": "python",
   "name": "python3"
  },
  "language_info": {
   "codemirror_mode": {
    "name": "ipython",
    "version": 3
   },
   "file_extension": ".py",
   "mimetype": "text/x-python",
   "name": "python",
   "nbconvert_exporter": "python",
   "pygments_lexer": "ipython3",
   "version": "3.6.4"
  }
 },
 "nbformat": 4,
 "nbformat_minor": 2
}
